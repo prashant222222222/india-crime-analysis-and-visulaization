{
 "cells": [
  {
   "cell_type": "code",
   "execution_count": 1,
   "metadata": {},
   "outputs": [],
   "source": [
    "# https://ieeexplore.ieee.org/abstract/document/8203676\n",
    "import pandas as pd\n",
    "import numpy as np\n",
    "import matplotlib.pyplot as plt\n"
   ]
  },
  {
   "cell_type": "code",
   "execution_count": 2,
   "metadata": {},
   "outputs": [],
   "source": [
    "df=pd.read_csv(\"01_District_wise_crimes_committed_IPC_2001_2012.csv\")"
   ]
  },
  {
   "cell_type": "code",
   "execution_count": 3,
   "metadata": {},
   "outputs": [
    {
     "name": "stdout",
     "output_type": "stream",
     "text": [
      "(9017, 33)\n"
     ]
    }
   ],
   "source": [
    "df.head(5)\n",
    "print(df.shape)"
   ]
  },
  {
   "cell_type": "code",
   "execution_count": 4,
   "metadata": {},
   "outputs": [],
   "source": [
    "year=df[\"YEAR\"].unique()"
   ]
  },
  {
   "cell_type": "code",
   "execution_count": 5,
   "metadata": {},
   "outputs": [
    {
     "data": {
      "text/plain": [
       "array([2001, 2002, 2003, 2004, 2005, 2006, 2007, 2008, 2009, 2010, 2011,\n",
       "       2012], dtype=int64)"
      ]
     },
     "execution_count": 5,
     "metadata": {},
     "output_type": "execute_result"
    }
   ],
   "source": [
    "year"
   ]
  },
  {
   "cell_type": "code",
   "execution_count": 6,
   "metadata": {},
   "outputs": [],
   "source": [
    "total_crimes={}\n",
    "for i in year:\n",
    "    df1=df[(df[\"YEAR\"]==i) & ((df[\"DISTRICT\"]==\"TOTAL\") |( df[\"DISTRICT\"]==\"DELHI UT TOTAL\")) ]\n",
    "    #print(df1.head(5))\n",
    "    total_crime=df1[\"TOTAL IPC CRIMES\"].sum()\n",
    "    total_crimes[i]=total_crime\n",
    "#print(total_crimes)\n",
    "    \n",
    "    \n",
    "    "
   ]
  },
  {
   "cell_type": "code",
   "execution_count": 7,
   "metadata": {},
   "outputs": [],
   "source": [
    "t1 = pd.DataFrame(list(total_crimes.items()),columns = ['year','crimes']) "
   ]
  },
  {
   "cell_type": "code",
   "execution_count": 8,
   "metadata": {},
   "outputs": [],
   "source": [
    "import seaborn as sns"
   ]
  },
  {
   "cell_type": "code",
   "execution_count": 9,
   "metadata": {},
   "outputs": [],
   "source": [
    "total_crimes={}\n",
    "state=df[\"STATE/UT\"].unique()\n",
    "for i in state:\n",
    "    df1=df[(df[\"STATE/UT\"]==i) & (df[\"DISTRICT\"]==\"TOTAL\") |( df[\"DISTRICT\"]==\"DELHI UT TOTAL\")]\n",
    "    #print(df1.head(5))\n",
    "    total_crime=df1[\"TOTAL IPC CRIMES\"].sum()\n",
    "    total_crimes[i]=total_crime\n",
    "#print(total_crimes)\n",
    "    \n",
    "    \n",
    "    "
   ]
  },
  {
   "cell_type": "code",
   "execution_count": 10,
   "metadata": {},
   "outputs": [
    {
     "name": "stdout",
     "output_type": "stream",
     "text": [
      "(35, 2)\n",
      "               STATES   crimes\n",
      "0      ANDHRA PRADESH  2652155\n",
      "1   ARUNACHAL PRADESH   660826\n",
      "2               ASSAM  1230938\n",
      "3               BIHAR  1979467\n",
      "4        CHHATTISGARH  1194201\n",
      "5                 GOA   665225\n",
      "6             GUJARAT  2018949\n",
      "7             HARYANA  1228477\n",
      "8    HIMACHAL PRADESH   788122\n",
      "9     JAMMU & KASHMIR   892329\n",
      "10          JHARKHAND  1055525\n",
      "11          KARNATAKA  2114237\n",
      "12             KERALA  2070633\n",
      "13     MADHYA PRADESH  3046944\n",
      "14        MAHARASHTRA  2906610\n",
      "15            MANIPUR   668246\n",
      "16          MEGHALAYA   658423\n",
      "17            MIZORAM   659320\n",
      "18           NAGALAND   646307\n",
      "19             ODISHA  1281120\n",
      "20             PUNJAB  1017305\n",
      "21          RAJASTHAN  2489090\n",
      "22             SIKKIM   640174\n",
      "23         TAMIL NADU  2693350\n",
      "24            TRIPURA   685908\n",
      "25      UTTAR PRADESH  2491248\n",
      "26        UTTARAKHAND   736378\n",
      "27        WEST BENGAL  1752478\n",
      "28      A & N ISLANDS   642276\n",
      "29         CHANDIGARH   673981\n",
      "30       D & N HAVELI   637825\n",
      "31        DAMAN & DIU   636122\n",
      "32           DELHI UT   633174\n",
      "33        LAKSHADWEEP   633917\n",
      "34         PUDUCHERRY   687290\n"
     ]
    }
   ],
   "source": [
    "\n",
    "t2 = pd.DataFrame(list(total_crimes.items()),columns = ['STATES','crimes'])  \n",
    "print(t2.shape)\n",
    "print(t2)"
   ]
  },
  {
   "cell_type": "code",
   "execution_count": 11,
   "metadata": {},
   "outputs": [],
   "source": [
    "total_women_crimes={}\n",
    "state=df[\"STATE/UT\"].unique()\n",
    "for i in state:\n",
    "    df1=df[(df[\"STATE/UT\"]==i) & (df[\"DISTRICT\"]==\"TOTAL\") |( df[\"DISTRICT\"]==\"DELHI UT TOTAL\")]\n",
    "    #print(df1.head(5))\n",
    "    total_crime=0\n",
    "    total_crime=total_crime+df1[\"ASSAULT ON WOMEN WITH INTENT TO OUTRAGE HER MODESTY\"].sum()\n",
    "    total_crime=total_crime+df1[\"RAPE\"].sum()\n",
    "    total_crime=total_crime+df1[\"KIDNAPPING AND ABDUCTION OF WOMEN AND GIRLS\"].sum()\n",
    "    total_crime=total_crime+df1[\"DOWRY DEATHS\"].sum()\n",
    "    total_women_crimes[i]=total_crime\n",
    "\n",
    "    \n",
    "sc = pd.DataFrame(list(total_women_crimes.items()),columns = ['STATES','crimes'])\n",
    "# print(sc.shape)\n",
    "sc['tcrime']=t2['crimes']\n",
    "sc['crimes']=sc['crimes']/sc['tcrime']\n",
    "\n",
    "women_rank={}\n",
    "top=sc.nlargest(35, ['crimes']) \n",
    "# print(top)\n",
    "l=np.array(top['STATES'])\n",
    "m=[]\n",
    "for i in range(34,-1,-1):\n",
    "    women_rank[l[i]]=36-(i+1)\n",
    "# print(women_rank)\n",
    "\n",
    "l=[]\n",
    "\n",
    "for i in t2['STATES']:\n",
    "    l.append(women_rank[i])\n",
    "\n",
    "t2['women safety index']=np.array(l)   \n",
    "\n",
    "t3=t2.nlargest(5, ['crimes']) "
   ]
  },
  {
   "cell_type": "code",
   "execution_count": 12,
   "metadata": {},
   "outputs": [],
   "source": [
    "# pv = t2.pivot_table(values='women crime rank',index='STATES',columns='crimes')\n",
    "# sns.heatmap(pv)"
   ]
  },
  {
   "cell_type": "code",
   "execution_count": 13,
   "metadata": {},
   "outputs": [],
   "source": [
    "import json"
   ]
  },
  {
   "cell_type": "code",
   "execution_count": 14,
   "metadata": {},
   "outputs": [],
   "source": [
    "\n",
    "india_states=json.load(open(\"states_india.geojson\",'r'))\n"
   ]
  },
  {
   "cell_type": "code",
   "execution_count": 15,
   "metadata": {},
   "outputs": [],
   "source": [
    "#india_states['features'][1]"
   ]
  },
  {
   "cell_type": "code",
   "execution_count": 16,
   "metadata": {},
   "outputs": [
    {
     "name": "stdout",
     "output_type": "stream",
     "text": [
      "dict_keys(['type', 'geometry', 'properties'])\n",
      "{'cartodb_id': 1, 'state_code': 0, 'st_nm': 'Telangana'}\n"
     ]
    }
   ],
   "source": [
    "print(india_states['features'][0].keys())\n",
    "print(india_states['features'][0]['properties'])"
   ]
  },
  {
   "cell_type": "code",
   "execution_count": 17,
   "metadata": {},
   "outputs": [],
   "source": [
    "state_id_map={}\n",
    "for feature in india_states['features']:\n",
    "    feature['id']=feature['properties']['state_code']\n",
    "    state_id_map[feature['properties']['st_nm']]=feature['id']"
   ]
  },
  {
   "cell_type": "code",
   "execution_count": 18,
   "metadata": {},
   "outputs": [
    {
     "name": "stdout",
     "output_type": "stream",
     "text": [
      "dict_keys(['type', 'geometry', 'properties', 'id'])\n"
     ]
    }
   ],
   "source": [
    "print(india_states['features'][0].keys())"
   ]
  },
  {
   "cell_type": "code",
   "execution_count": 19,
   "metadata": {},
   "outputs": [],
   "source": [
    "#state_id_map"
   ]
  },
  {
   "cell_type": "code",
   "execution_count": 20,
   "metadata": {},
   "outputs": [],
   "source": [
    "#print(t2['STATES'])\n",
    "\n",
    "state_id_map['Arunachal Pradesh']=state_id_map[\"Arunanchal Pradesh\"]\n",
    "state_id_map.pop('Arunanchal Pradesh')\n",
    "state_id_map = dict((k.upper(), v) for k, v in state_id_map.items())\n",
    "j=[i for i in state_id_map.keys()]\n",
    "for i in j:\n",
    "    if  i not  in t2['STATES'].values:\n",
    "        #print(\"rter\")\n",
    "        state_id_map.pop(i.upper())"
   ]
  },
  {
   "cell_type": "code",
   "execution_count": 21,
   "metadata": {},
   "outputs": [],
   "source": [
    "#state_id_map"
   ]
  },
  {
   "cell_type": "code",
   "execution_count": 22,
   "metadata": {},
   "outputs": [],
   "source": [
    "import plotly.express as px"
   ]
  },
  {
   "cell_type": "code",
   "execution_count": 23,
   "metadata": {},
   "outputs": [],
   "source": [
    "import plotly.io as pio\n",
    "pio.renderers.default = \"browser\""
   ]
  },
  {
   "cell_type": "code",
   "execution_count": 24,
   "metadata": {},
   "outputs": [],
   "source": [
    "for i in t2.STATES.values:\n",
    "    if i not in state_id_map.keys():\n",
    "       t2= t2[t2.STATES!=i]"
   ]
  },
  {
   "cell_type": "code",
   "execution_count": 25,
   "metadata": {},
   "outputs": [],
   "source": [
    "\n",
    "t2['id']=t2['STATES'].apply(lambda x: state_id_map[x])"
   ]
  },
  {
   "cell_type": "code",
   "execution_count": 26,
   "metadata": {},
   "outputs": [],
   "source": [
    "#fig=px.choropleth(t2,locations='id', geojson=india_states ,color=\"crimes\" ,scope=\"asia\",hover_name=\"STATES\") \n",
    "#fig.update_geos(fitbounds=\"locations\",visible=False)"
   ]
  },
  {
   "cell_type": "code",
   "execution_count": 27,
   "metadata": {},
   "outputs": [],
   "source": [
    "#fig.show()"
   ]
  },
  {
   "cell_type": "code",
   "execution_count": 28,
   "metadata": {},
   "outputs": [],
   "source": [
    "fig=px.choropleth_mapbox(t2,locations='id', geojson=india_states ,color=\"crimes\" \n",
    "                         ,hover_name=\"STATES\",hover_data=[\"women safety index\"],mapbox_style=\"carto-positron\",center={'lat':24,'lon':78},\n",
    "                        zoom=3,opacity=0.5) \n",
    "fig.show()\n"
   ]
  },
  {
   "cell_type": "code",
   "execution_count": null,
   "metadata": {},
   "outputs": [],
   "source": []
  },
  {
   "cell_type": "code",
   "execution_count": null,
   "metadata": {},
   "outputs": [],
   "source": []
  },
  {
   "cell_type": "code",
   "execution_count": null,
   "metadata": {},
   "outputs": [],
   "source": []
  },
  {
   "cell_type": "code",
   "execution_count": null,
   "metadata": {},
   "outputs": [],
   "source": []
  },
  {
   "cell_type": "code",
   "execution_count": null,
   "metadata": {},
   "outputs": [],
   "source": []
  },
  {
   "cell_type": "code",
   "execution_count": null,
   "metadata": {},
   "outputs": [],
   "source": []
  },
  {
   "cell_type": "code",
   "execution_count": null,
   "metadata": {},
   "outputs": [],
   "source": []
  },
  {
   "cell_type": "code",
   "execution_count": null,
   "metadata": {},
   "outputs": [],
   "source": []
  },
  {
   "cell_type": "code",
   "execution_count": null,
   "metadata": {},
   "outputs": [],
   "source": []
  },
  {
   "cell_type": "code",
   "execution_count": null,
   "metadata": {},
   "outputs": [],
   "source": []
  },
  {
   "cell_type": "code",
   "execution_count": null,
   "metadata": {},
   "outputs": [],
   "source": []
  },
  {
   "cell_type": "code",
   "execution_count": null,
   "metadata": {},
   "outputs": [],
   "source": []
  },
  {
   "cell_type": "code",
   "execution_count": null,
   "metadata": {},
   "outputs": [],
   "source": []
  },
  {
   "cell_type": "code",
   "execution_count": null,
   "metadata": {},
   "outputs": [],
   "source": []
  },
  {
   "cell_type": "code",
   "execution_count": null,
   "metadata": {},
   "outputs": [],
   "source": []
  },
  {
   "cell_type": "code",
   "execution_count": null,
   "metadata": {},
   "outputs": [],
   "source": []
  },
  {
   "cell_type": "code",
   "execution_count": null,
   "metadata": {},
   "outputs": [],
   "source": []
  },
  {
   "cell_type": "code",
   "execution_count": null,
   "metadata": {},
   "outputs": [],
   "source": []
  },
  {
   "cell_type": "code",
   "execution_count": null,
   "metadata": {},
   "outputs": [],
   "source": []
  },
  {
   "cell_type": "code",
   "execution_count": null,
   "metadata": {},
   "outputs": [],
   "source": []
  },
  {
   "cell_type": "code",
   "execution_count": null,
   "metadata": {},
   "outputs": [],
   "source": []
  },
  {
   "cell_type": "code",
   "execution_count": null,
   "metadata": {},
   "outputs": [],
   "source": []
  },
  {
   "cell_type": "code",
   "execution_count": null,
   "metadata": {},
   "outputs": [],
   "source": []
  },
  {
   "cell_type": "code",
   "execution_count": null,
   "metadata": {},
   "outputs": [],
   "source": []
  },
  {
   "cell_type": "code",
   "execution_count": null,
   "metadata": {},
   "outputs": [],
   "source": []
  }
 ],
 "metadata": {
  "kernelspec": {
   "display_name": "Python 3",
   "language": "python",
   "name": "python3"
  },
  "language_info": {
   "codemirror_mode": {
    "name": "ipython",
    "version": 3
   },
   "file_extension": ".py",
   "mimetype": "text/x-python",
   "name": "python",
   "nbconvert_exporter": "python",
   "pygments_lexer": "ipython3",
   "version": "3.7.5"
  }
 },
 "nbformat": 4,
 "nbformat_minor": 2
}
